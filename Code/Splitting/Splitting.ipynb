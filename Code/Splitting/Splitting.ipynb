{
 "cells": [
  {
   "cell_type": "markdown",
   "id": "c99378aa",
   "metadata": {},
   "source": [
    "Al final hemos decidido hacer un split del dataset tal que en el conjunto de val y test hay 300 imágenes de cada clase, y en el conjunto de train hay 2123 elípticas, 2615 S0s y 7108 espirales.\n",
    "\n",
    "En este code pretendo hacer el split y generar 3 csv's, train, val y test, respectivamente, con el número correcto de imágenes por clase, y de forma randomizada. \n",
    "\n",
    "La idea es meter 300 imágenes random de cada clase a val y test, y el resto a train."
   ]
  },
  {
   "cell_type": "code",
   "execution_count": 35,
   "id": "8e0868af",
   "metadata": {},
   "outputs": [],
   "source": [
    "import pandas as pd\n",
    "import random"
   ]
  },
  {
   "cell_type": "code",
   "execution_count": 36,
   "id": "3aa0561e",
   "metadata": {},
   "outputs": [],
   "source": [
    "# Primero abro el csv mergeado\n",
    "df = pd.read_csv(\"C:\\\\Users\\\\maseo\\\\OneDrive\\\\Escritorio\\\\GalaxyClassification\\\\Data\\\\Dataset\\\\path_TType.csv\", sep=';')\n",
    "\n",
    "# Ahora creo otra columna agrupando las subclases, de tal forma que solo haya 3 clases.\n",
    "\n",
    "# Definir una función para asignar la clase final.\n",
    "def assign_final_class(clase):\n",
    "    if clase == -5:\n",
    "        return 'Ellipticals'\n",
    "    elif -3 <= clase <= 0:\n",
    "        return 'S0s'\n",
    "    elif 1 <= clase <= 9:\n",
    "        return 'Spirals'\n",
    "    else:\n",
    "        return 'Irr-Misc'  # Si la clase no cumple con ninguna de las condiciones anteriores, puedes asignar otro valor\n",
    "\n",
    "# Crear la nueva columna \"Final_Class\" basada en la columna de clase original\n",
    "df['Clase'] = df['TType'].apply(assign_final_class)\n",
    "\n",
    "# Ahora la idea es meter en val y test 300 imágenes de cada clase, pero aleatoriamente.\n",
    "\n",
    "# Creo DataFrames vacíos para train, val y test\n",
    "train_df = pd.DataFrame(columns=['#JID', 'fpCid', 'TType', 'Clase'])\n",
    "val_df = pd.DataFrame(columns=['#JID', 'fpCid', 'TType', 'Clase'])\n",
    "test_df = pd.DataFrame(columns=['#JID', 'fpCid', 'TType', 'Clase'])\n",
    "\n",
    "# Definir el número de imágenes por clase en val y test\n",
    "num_images_per_class = 300\n",
    "\n",
    "# Iterar sobre cada clase\n",
    "for clase in df['Clase'].unique():\n",
    "    # Seleccionar las filas correspondientes a la clase actual\n",
    "    clase_df = df[df['Clase'] == clase]\n",
    "    \n",
    "    # Barajar las filas aleatoriamente\n",
    "    clase_df = clase_df.sample(frac=1).reset_index(drop=True)\n",
    "    \n",
    "    # Dividir las imágenes de la clase en val y test\n",
    "    val_and_test = clase_df.head(num_images_per_class * 2)\n",
    "    val_df = pd.concat([val_df, val_and_test.head(num_images_per_class)])\n",
    "    test_df = pd.concat([test_df, val_and_test.tail(num_images_per_class)])\n",
    "    \n",
    "    # Las imágenes restantes van al conjunto de entrenamiento\n",
    "    train_df = pd.concat([train_df, clase_df.iloc[num_images_per_class * 2:]])\n",
    "\n",
    "# Guardar los DataFrames en archivos CSV\n",
    "train_df.to_csv('C:\\\\Users\\\\maseo\\\\OneDrive\\\\Escritorio\\\\GalaxyClassification\\\\Data\\\\Dataset\\\\Train.csv', index=False, sep=';')\n",
    "val_df.to_csv('C:\\\\Users\\\\maseo\\\\OneDrive\\\\Escritorio\\\\GalaxyClassification\\\\Data\\\\Dataset\\\\Val.csv', index=False, sep=';')\n",
    "test_df.to_csv('C:\\\\Users\\\\maseo\\\\OneDrive\\\\Escritorio\\\\GalaxyClassification\\\\Data\\\\Dataset\\\\Test.csv', index=False, sep=';')\n"
   ]
  },
  {
   "cell_type": "markdown",
   "id": "badc08d1",
   "metadata": {},
   "source": [
    "Aunque las Irr+Misc no nos interesan, para entender el split, en val y test hay 300 imágenes de Irr+Misc. ¿Cómo es posible? Realmente lo que hemos hecho ha sido barajar cada clase y coger un head de 600. Para cada val se han metido las primeras 300 y para test las ultimas 300. Como en Irr+Misc solo hay 388, hay valores repetidos. Luego en train no aparecen, obviamente, porque hemos metido en train el resto de esas 600 de la cabecera."
   ]
  },
  {
   "cell_type": "code",
   "execution_count": null,
   "id": "eb03680c",
   "metadata": {},
   "outputs": [],
   "source": []
  }
 ],
 "metadata": {
  "kernelspec": {
   "display_name": "Python 3 (ipykernel)",
   "language": "python",
   "name": "python3"
  },
  "language_info": {
   "codemirror_mode": {
    "name": "ipython",
    "version": 3
   },
   "file_extension": ".py",
   "mimetype": "text/x-python",
   "name": "python",
   "nbconvert_exporter": "python",
   "pygments_lexer": "ipython3",
   "version": "3.11.7"
  }
 },
 "nbformat": 4,
 "nbformat_minor": 5
}
